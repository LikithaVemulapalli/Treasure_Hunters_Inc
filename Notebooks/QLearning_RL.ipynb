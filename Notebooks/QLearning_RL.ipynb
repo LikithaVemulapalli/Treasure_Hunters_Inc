{
  "nbformat": 4,
  "nbformat_minor": 0,
  "metadata": {
    "colab": {
      "name": "QLearning_RL.ipynb",
      "provenance": [],
      "collapsed_sections": []
    },
    "kernelspec": {
      "name": "python3",
      "display_name": "Python 3"
    },
    "language_info": {
      "name": "python"
    }
  },
  "cells": [
    {
      "cell_type": "markdown",
      "metadata": {
        "id": "4_SCwIhRleYq"
      },
      "source": [
        "## Treasure Hunters Inc.\n",
        "\n",
        "The main goal of this project is to solve a Treasure Hunt map like environment using Reinforcement Learning. I used QLearning algorithm for this project.\n",
        "\n",
        "### Description of maze\n",
        "\n",
        "The maze used is very simple. It includes opponents, obstacles, treasures at different positions in the maze. The aim of the reinforcement learning agent is to find the best path collecting treasures till you reach the destination while avoiding the obstacles.\n",
        "\n",
        "Here, the reward is calculated if agent collects the treasure and the total reward is displayed by adding all the treasures until it reaches the destiantion.\n",
        "\n",
        "### Q-Learning\n",
        "\n",
        "To acheive the optimal path to find treasure, I used Q Learning algorithm. Rewards will be added associated with an action and the quality of the action dictated by history of moves that follows the action learnt by agent through experience. \n",
        "\n",
        "The agent here, learns to navigate by the train function defined and using Bellman Equation the quality matrix Q is updated to gather experience by the agent. Once, training is done, the agent has learned the maze and on giving starting point and final destination the agent can navigate and collect treasures in maze.\n",
        "\n",
        "\n"
      ]
    },
    {
      "cell_type": "markdown",
      "metadata": {
        "id": "H059Qvqelfx6"
      },
      "source": [
        "## Importing required libraries"
      ]
    },
    {
      "cell_type": "code",
      "metadata": {
        "id": "4NMZWU-vlevK"
      },
      "source": [
        "import numpy as np\n",
        "import math\n",
        "import matplotlib as mpl\n",
        "import matplotlib.pyplot as plt\n",
        "import warnings\n",
        "warnings.filterwarnings(\"ignore\") # Supress MatPlotLib Warning"
      ],
      "execution_count": 1,
      "outputs": []
    },
    {
      "cell_type": "markdown",
      "metadata": {
        "id": "d26aHK2T8MeB"
      },
      "source": [
        "## Q Learning Implementation\n",
        "\n",
        "Below are the functions required to get the best path without any obstacles and opponents."
      ]
    },
    {
      "cell_type": "code",
      "metadata": {
        "id": "9Qh_IRMmnv2x"
      },
      "source": [
        "#This function defines the different types of moves more specifically different directions from each state - N, E, W, S.\n",
        "# We don't define stop move since on reaching destination the agent will automatically halt.\n",
        "\n",
        "def move_direction(state, move):\n",
        "    if move == 0:   # North\n",
        "        return state - width\n",
        "    elif move == 1: # East\n",
        "        return state + 1\n",
        "    elif move == 2: # South\n",
        "        return state + width\n",
        "    elif move == 3: # West\n",
        "        return state - 1\n",
        "    else:\n",
        "        raise Exception"
      ],
      "execution_count": 2,
      "outputs": []
    },
    {
      "cell_type": "code",
      "metadata": {
        "id": "wKWRd7cinv6L"
      },
      "source": [
        "#possible move function returns the possible moves that are without any obstacles or opponents from any arbituary state.\n",
        "def possible_moves(s, M):\n",
        "    pmove = []\n",
        "    correct_move = []\n",
        "    x, y = StateToPos(s)\n",
        "    if y > 0:\n",
        "        correct_move.append(0)\n",
        "    if x < len(M[0]) - 1:\n",
        "        correct_move.append(1)\n",
        "    if y < len(M) - 1:\n",
        "        correct_move.append(2)\n",
        "    if x > 0:\n",
        "        correct_move.append(3)\n",
        "    for move in correct_move:\n",
        "            poss_state = move_direction(s,move)\n",
        "            x,y = StateToPos(poss_state)\n",
        "            if M[y][x] != OBSTACLE: pmove.append(move)\n",
        "    return pmove"
      ],
      "execution_count": 3,
      "outputs": []
    },
    {
      "cell_type": "code",
      "metadata": {
        "id": "NvBpXHDdnv9O"
      },
      "source": [
        "#This function uses the Q matrix and gets the best move from one state to reach another state until it reaches the destination.\n",
        "def best_move(s, M, Q):\n",
        "    pnextmove = possible_moves(s, M)\n",
        "    if len(pnextmove) == 0:\n",
        "            return None\n",
        "    max_m = pnextmove[0]\n",
        "    max_q = Q[s][max_m]\n",
        "\n",
        "    for move in pnextmove[1::]:\n",
        "        if(Q[s][move] > max_q):\n",
        "            max_q, max_m = Q[s][move], move\n",
        "    return max_m"
      ],
      "execution_count": 4,
      "outputs": []
    },
    {
      "cell_type": "code",
      "metadata": {
        "id": "bG2zT5oin8FV"
      },
      "source": [
        "#Gets the next move by either exploring or exploiting\n",
        "def random_move(s, M, Q):\n",
        "    pnextmove = possible_moves(s, M)\n",
        "    if len(pnextmove) == 0:\n",
        "            return None\n",
        "    if np.random.rand() <= exploit_prob:\n",
        "        return best_move(s, M, Q)\n",
        "    else:\n",
        "        next_move = \\\n",
        "            pnextmove[np.random.randint(0,\\\n",
        "            len(pnextmove))]\n",
        "        return next_move"
      ],
      "execution_count": 5,
      "outputs": []
    },
    {
      "cell_type": "code",
      "metadata": {
        "id": "Jh2JNJzfn8IG"
      },
      "source": [
        "#Functions to convert from state to positions and vice versa.\n",
        "def StateToPos(s):\n",
        "    return s % width, s // width\n",
        "def PosToState(x,y):\n",
        "    return y*width+x"
      ],
      "execution_count": 6,
      "outputs": []
    },
    {
      "cell_type": "markdown",
      "metadata": {
        "id": "EDAGem1O-UAg"
      },
      "source": [
        "### Implementation of train function to train the agent."
      ]
    },
    {
      "cell_type": "code",
      "metadata": {
        "id": "WkLT90jKn8LS"
      },
      "source": [
        "def train(M, Q, gamma, lrn_rate, destination, ns, max_epochs, startingState, max_steps):\n",
        "    for _ in range(0,max_epochs):\n",
        "        M_copy = np.copy(M)\n",
        "        curr_s = 0\n",
        "        steps = 0\n",
        "        x,y = StateToPos(curr_s)\n",
        "        points = M_copy[y][x]\n",
        "        M_copy[y][x] = OBSTACLE # Converts the path previously walked on to disalow backtracking\n",
        "        while(True):\n",
        "            next_m = random_move(curr_s, M_copy, Q)\n",
        "            if next_m is None:\n",
        "                break\n",
        "            next_s = move_direction(curr_s,next_m)\n",
        "            x,y = StateToPos(next_s)\n",
        "            next_r = M_copy[y][x]\n",
        "            points += next_r\n",
        "\n",
        "            M_copy[y][x] = OBSTACLE\n",
        "\n",
        "            bestnextnextMove = best_move(next_s, M_copy, Q)\n",
        "            max_Q = -1\n",
        "            if bestnextnextMove is not None:\n",
        "                max_Q = Q[next_s][bestnextnextMove]\n",
        "                \n",
        "            Q[curr_s][next_m] = Q[curr_s][next_m] + (lrn_rate) * \\\n",
        "                                                    ( next_r + (gamma * max_Q) - Q[curr_s][next_m] )\n",
        "\n",
        "            #update Q matrix based on the formula from class\n",
        "            \n",
        "            curr_s = next_s\n",
        "            steps += 1\n",
        "            if curr_s == destination: break\n",
        "            if steps == max_steps: break # Max steps specified to quicken algorithm from excessively long paths."
      ],
      "execution_count": 7,
      "outputs": []
    },
    {
      "cell_type": "code",
      "metadata": {
        "id": "gNcDopVWnv_3"
      },
      "source": [
        "#Returns a path based on the best move from the highest values in the Q matrix\n",
        "def best_path(start, destination, Q, M, max_steps):\n",
        "    M_copy = np.copy(M)\n",
        "    steps = 1\n",
        "    curr = start\n",
        "    curr_x, curr_y = StateToPos(curr)\n",
        "    points = M_copy[curr_y][curr_x]\n",
        "    M_copy[curr_y][curr_x] = OBSTACLE\n",
        "    print(str((curr_x,curr_y)), end=\"\")\n",
        "    path = [[.5,.5]]\n",
        "    while curr != destination and steps < max_steps:\n",
        "        next_m = best_move(curr, M_copy, Q)\n",
        "        if next_m is None:\n",
        "            break\n",
        "        next = move_direction(curr,next_m)\n",
        "        curr_x, curr_y = StateToPos(curr)\n",
        "        x, y = StateToPos(next)\n",
        "        path.append([x+.5,y+.5])\n",
        "        print(\"->\" + str((x,y)), end=\"\")\n",
        "        points += M_copy[y,x]\n",
        "        M_copy[y][x] = OBSTACLE\n",
        "\n",
        "        curr = next\n",
        "        steps += 1\n",
        "        \n",
        "    return np.array(path),points"
      ],
      "execution_count": 8,
      "outputs": []
    },
    {
      "cell_type": "markdown",
      "metadata": {
        "id": "HqHtCFU7oqAN"
      },
      "source": [
        "## Function to print the Treasure map\n",
        "\n"
      ]
    },
    {
      "cell_type": "code",
      "metadata": {
        "id": "6yfwLfPyomYb"
      },
      "source": [
        "#This function will have all the variables needed to print the map with different blocks. The blocks in the map includes Obstacles, Score, Opponent.\n",
        "def Treasure_Map(M, path=None):\n",
        "    cmap = mpl.colors.ListedColormap(['Navy', 'firebrick', 'darkgreen','white'])\n",
        "    M_copy = np.copy(M)\n",
        "\n",
        "   # Scaling the Map for colormesh  \n",
        "    minimum = int(np.amin(M))-1\n",
        "    M_copy[abs(M_copy - GROUND) < .01]   = minimum-1\n",
        "    M_copy[abs(M_copy - TREASURE) < .01] = minimum-2\n",
        "    M_copy[abs(M_copy - OBSTACLE) < .01] = minimum-3\n",
        "    M_copy[abs(M_copy - OPPONENT) < .01] = minimum-4\n",
        "\n",
        "    M_copy[M_copy is minimum-1] = 0\n",
        "    M_copy[M_copy is minimum-2] = 1\n",
        "    M_copy[M_copy is minimum-3] = 2\n",
        "    M_copy[M_copy is minimum-4] = 3\n",
        "    \n",
        "\n",
        "    plt.pcolormesh(M_copy, cmap=cmap)\n",
        "\n",
        "    green_patch = mpl.patches.Patch(color='white', label='Ground')\n",
        "    gold_patch = mpl.patches.Patch(color='darkgreen', label='Treasure')\n",
        "    brown_patch = mpl.patches.Patch(color='firebrick', label='Obstacle')\n",
        "    blue_patch = mpl.patches.Patch(color='Navy', label='Opponent')\n",
        "    handles = [green_patch, gold_patch, brown_patch, blue_patch]\n",
        "    plt.subplots_adjust(right=0.7)\n",
        "    \n",
        "    if path is not None:\n",
        "        plt.plot(*path.T, color='purple')\n",
        "        red_patch = mpl.patches.Patch(color='purple', label='Path')\n",
        "        handles.append(red_patch)\n",
        "    plt.legend(handles=handles ,loc='upper left', bbox_to_anchor=(1.04,1), borderaxespad=0)\n",
        "    plt.axes().set_aspect('equal') #same scale for x and y axis.\n",
        "    plt.xticks(np.arange(0, len(M), 1)) # remove the tick marks by setting to an empty list\n",
        "    plt.yticks(np.arange(0, len(M[0]), 1)) # remove the tick marks by setting to an empty list\n",
        "    plt.grid()\n",
        "    plt.axes().invert_yaxis() #inverting the y-axis so that the first row of data is at the top"
      ],
      "execution_count": 9,
      "outputs": []
    },
    {
      "cell_type": "markdown",
      "metadata": {
        "id": "wZ_D03U_QYL_"
      },
      "source": [
        "## Reward Calculations:\n",
        "\n",
        "For the maze designed, on collecting the treasures starting from start point and until it reach the destiantion, the values are summed and total reward is displayed.\n",
        "\n",
        "On passing the treasure, 5 points will be added and if any opponent is touched while navigating, 5 points will be deducted from the total reward till that point. While navigating, the otehr blocks apart from treasures, obstacles and opponents, a minute 0.25 will be deducting from the total rewards. In this way, we can get the reward as well as the optimal path when agent reaches the destiantion."
      ]
    },
    {
      "cell_type": "markdown",
      "metadata": {
        "id": "el2KDWyHmNN7"
      },
      "source": [
        "## Initializing the variable values required for treasure map."
      ]
    },
    {
      "cell_type": "code",
      "metadata": {
        "id": "fLlQN16-lg7D"
      },
      "source": [
        "GROUND = -0.25\n",
        "TREASURE = 5\n",
        "OBSTACLE = 0\n",
        "OPPONENT = -5\n",
        "height = 15\n",
        "width = 15"
      ],
      "execution_count": 10,
      "outputs": []
    },
    {
      "cell_type": "markdown",
      "metadata": {
        "id": "2OTjj_T-Ato5"
      },
      "source": [
        "## Plot the treasure map with obstacles, opponent and treasure"
      ]
    },
    {
      "cell_type": "code",
      "metadata": {
        "id": "O1zLUeB_logS"
      },
      "source": [
        "M = np.full((width,height), GROUND)\n",
        "shape = M.shape\n",
        "M = M.flatten()\n",
        "np.random.seed(2)\n",
        "treasureIndecies = np.random.choice(M.size, size=20)\n",
        "M[treasureIndecies] = TREASURE\n",
        "M = M.reshape(shape)\n",
        "\n",
        "M[1][0] = TREASURE; M[2][1] = TREASURE; M[3][2] = TREASURE; M[4][3] = TREASURE\n",
        "\n",
        "M[5,1] = OBSTACLE; M[6,1] = OBSTACLE; M[7,1] = OBSTACLE; M[8,1] = OBSTACLE\n",
        "M[11,1] = OBSTACLE; M[12,1] = OBSTACLE; M[13,1] = OBSTACLE; M[14,1] = OBSTACLE\n",
        "M[11,2] = OBSTACLE; M[11,3] = OBSTACLE; M[11,4] = OBSTACLE; M[11,5] = OBSTACLE\n",
        "\n",
        "M[10,4] = OPPONENT; M[4,3] = OPPONENT; M[5,10] = OPPONENT; M[14,4] = OPPONENT\n",
        "\n",
        "M[0,0] = GROUND\n",
        "M[14,14] = TREASURE"
      ],
      "execution_count": 11,
      "outputs": []
    },
    {
      "cell_type": "code",
      "metadata": {
        "colab": {
          "base_uri": "https://localhost:8080/",
          "height": 269
        },
        "id": "bzWLzoABlqjk",
        "outputId": "b928e177-69a8-4063-890b-8a62f1ab7183"
      },
      "source": [
        "Treasure_Map(M)"
      ],
      "execution_count": 12,
      "outputs": [
        {
          "output_type": "display_data",
          "data": {
            "image/png": "[encoded data removed]",
            "text/plain": [
              "<Figure size 432x288 with 1 Axes>"
            ]
          },
          "metadata": {
            "tags": [],
            "needs_background": "light"
          }
        }
      ]
    },
    {
      "cell_type": "markdown",
      "metadata": {
        "id": "G9f-gmYSpJ83"
      },
      "source": [
        "## Initializing the values required for training - QLearning."
      ]
    },
    {
      "cell_type": "code",
      "metadata": {
        "id": "mmhJNxcWl2ob"
      },
      "source": [
        "start_state = 0\n",
        "state_count = M.size\n",
        "final_state = state_count - 1\n",
        "move_options = 4\n",
        "gamma = .5\n",
        "lrn_rate = .2\n",
        "max_epochs = 1000\n",
        "max_steps = 100\n",
        "exploit_prob = .8"
      ],
      "execution_count": 13,
      "outputs": []
    },
    {
      "cell_type": "markdown",
      "metadata": {
        "id": "EVibebDFpaIr"
      },
      "source": [
        "## Training the treasure map with given parameters."
      ]
    },
    {
      "cell_type": "code",
      "metadata": {
        "id": "cUbBdWlgl4Ls"
      },
      "source": [
        "Q = np.zeros(shape=[state_count,move_options], dtype=np.float32)  # Quality\n",
        "train(M, Q, gamma, lrn_rate, final_state, state_count, max_epochs, 0, max_steps)"
      ],
      "execution_count": 14,
      "outputs": []
    },
    {
      "cell_type": "markdown",
      "metadata": {
        "id": "gvqa7BdlpiOK"
      },
      "source": [
        "## Printing the path\n",
        "\n",
        "On running the below block, we can see the points from which the path was obtained travelled from starting point to end point which is the destination."
      ]
    },
    {
      "cell_type": "code",
      "metadata": {
        "colab": {
          "base_uri": "https://localhost:8080/",
          "height": 373
        },
        "id": "Y6oyM12zl9k0",
        "outputId": "69c08285-3ade-499b-905e-84b6fc322b4b"
      },
      "source": [
        "Q = np.zeros(shape=[state_count,move_options], dtype=np.float32)\n",
        "train(M, Q, gamma, lrn_rate, final_state, state_count, max_epochs, 0, max_steps)\n",
        "print(\"Path from\", StateToPos(start_state), \"to\", StateToPos(final_state))\n",
        "path,points = best_path(start_state, final_state, Q, M, max_steps)\n",
        "Treasure_Map(M,path)\n",
        "print(\"\\n\")\n",
        "print(\"\\nTotal rewards for path is:\", points)"
      ],
      "execution_count": 15,
      "outputs": [
        {
          "output_type": "stream",
          "text": [
            "Path from (0, 0) to (14, 14)\n",
            "(0, 0)->(0, 1)->(0, 2)->(1, 2)->(2, 2)->(2, 3)->(1, 3)->(0, 3)->(0, 4)->(0, 5)->(0, 6)->(0, 7)->(0, 8)->(0, 9)->(1, 9)->(2, 9)->(3, 9)->(3, 8)->(4, 8)->(4, 7)->(4, 6)->(5, 6)->(6, 6)->(7, 6)->(7, 5)->(7, 4)->(7, 3)->(7, 2)->(7, 1)->(7, 0)->(8, 0)->(8, 1)->(8, 2)->(9, 2)->(10, 2)->(10, 3)->(10, 4)->(11, 4)->(12, 4)->(12, 3)->(13, 3)->(13, 2)->(14, 2)->(14, 3)->(14, 4)->(14, 5)->(14, 6)->(14, 7)->(13, 7)->(13, 8)->(13, 9)->(13, 10)->(12, 10)->(12, 11)->(13, 11)->(13, 12)->(14, 12)->(14, 13)->(14, 14)\n",
            "\n",
            "\n",
            "Total rewards for path is: 64.0\n"
          ],
          "name": "stdout"
        },
        {
          "output_type": "display_data",
          "data": {
            "image/png": "[encoded data removed]",
            "text/plain": [
              "<Figure size 432x288 with 1 Axes>"
            ]
          },
          "metadata": {
            "tags": [],
            "needs_background": "light"
          }
        }
      ]
    },
    {
      "cell_type": "markdown",
      "metadata": {
        "id": "MfgAh2PNJ_3X"
      },
      "source": [
        "This path is the best path obtained without touching any obstacles or opponents. The reward can reach till 67 if few other treasure blocks are covered but we got an accuracy of 95% using qlearning algorithm. This algorithm is easy to understand and gave results with atmost accuracy."
      ]
    },
    {
      "cell_type": "markdown",
      "metadata": {
        "id": "esDdzIAzqVpC"
      },
      "source": [
        "## Changing the positions\n",
        "\n",
        "We are changing the positions of obstacles, treasure and opponents in order to see if the optimal path obtained will not hit any obstacle or opponent."
      ]
    },
    {
      "cell_type": "code",
      "metadata": {
        "id": "MBMWx4WBmAAa"
      },
      "source": [
        "M = np.full((width,height), GROUND)\n",
        "shape = M.shape\n",
        "M = M.flatten()\n",
        "treasureIndecies = np.random.choice(M.size, size=15)\n",
        "obsticleIndecies = np.random.choice(M.size, size=20)\n",
        "opponentIndecies = np.random.choice(M.size, size=5)\n",
        "\n",
        "M[treasureIndecies] = TREASURE\n",
        "M[obsticleIndecies] = OBSTACLE\n",
        "M[opponentIndecies] = OPPONENT\n",
        "\n",
        "M = M.reshape(shape)\n",
        "\n",
        "M[0,0] = GROUND\n",
        "M[14,14] = TREASURE"
      ],
      "execution_count": 16,
      "outputs": []
    },
    {
      "cell_type": "code",
      "metadata": {
        "colab": {
          "base_uri": "https://localhost:8080/",
          "height": 269
        },
        "id": "kSLd7lrWmB5v",
        "outputId": "55e1e6e1-b0bd-4757-e6bd-6db8a522b1ae"
      },
      "source": [
        "Treasure_Map(M)"
      ],
      "execution_count": 17,
      "outputs": [
        {
          "output_type": "display_data",
          "data": {
            "image/png": "[encoded data removed]",
            "text/plain": [
              "<Figure size 432x288 with 1 Axes>"
            ]
          },
          "metadata": {
            "tags": [],
            "needs_background": "light"
          }
        }
      ]
    },
    {
      "cell_type": "code",
      "metadata": {
        "colab": {
          "base_uri": "https://localhost:8080/",
          "height": 373
        },
        "id": "5tRLiXJTmDYN",
        "outputId": "502c0eaf-0a69-4c86-b147-c0075c9b8719"
      },
      "source": [
        "Q = np.zeros(shape=[state_count,move_options], dtype=np.float32)\n",
        "train(M, Q, gamma, lrn_rate, final_state, state_count, max_epochs, 0, max_steps)\n",
        "print(\"Path from\", StateToPos(start_state), \"to\", StateToPos(final_state))\n",
        "path,points = best_path(start_state, final_state, Q, M, max_steps)\n",
        "Treasure_Map(M,path)\n",
        "print(\"\\n\")\n",
        "print(\"\\nTotal rewards for path is:\", points)"
      ],
      "execution_count": 18,
      "outputs": [
        {
          "output_type": "stream",
          "text": [
            "Path from (0, 0) to (14, 14)\n",
            "(0, 0)->(0, 1)->(0, 2)->(0, 3)->(0, 4)->(0, 5)->(1, 5)->(2, 5)->(2, 6)->(2, 7)->(2, 8)->(2, 9)->(2, 10)->(2, 11)->(3, 11)->(4, 11)->(4, 10)->(5, 10)->(5, 9)->(5, 8)->(6, 8)->(6, 7)->(6, 6)->(6, 5)->(7, 5)->(8, 5)->(8, 6)->(9, 6)->(9, 7)->(9, 8)->(9, 9)->(9, 10)->(10, 10)->(10, 11)->(11, 11)->(11, 12)->(11, 13)->(12, 13)->(13, 13)->(14, 13)->(14, 14)\n",
            "\n",
            "\n",
            "Total rewards for path is: 42.25\n"
          ],
          "name": "stdout"
        },
        {
          "output_type": "display_data",
          "data": {
            "image/png": "[encoded data removed]",
            "text/plain": [
              "<Figure size 432x288 with 1 Axes>"
            ]
          },
          "metadata": {
            "tags": [],
            "needs_background": "light"
          }
        }
      ]
    },
    {
      "cell_type": "markdown",
      "metadata": {
        "id": "tMW0C4-gJlfv"
      },
      "source": [
        "The path from the above plot is pretty good, It is not optimal since, the treasure at (0, 12) can be covered which will add the total rewards by 3.5. But it is 93% optimal if you observe other treasures are covered."
      ]
    },
    {
      "cell_type": "markdown",
      "metadata": {
        "id": "H71ghSR5mHfJ"
      },
      "source": [
        "## Conclusion:\n",
        "\n",
        "From the above two plots with different positions of Obstacles, opponents and treasure, we can observe that using QLearning we obtained the optimal path by covering most of the treasure blocks with no opponents or obstacles. Further, more optimal paths can be obtained by adjusting the parameters used while training the map."
      ]
    }
  ]
}